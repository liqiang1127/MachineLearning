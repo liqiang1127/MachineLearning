{
 "cells": [
  {
   "cell_type": "code",
   "execution_count": 1,
   "metadata": {},
   "outputs": [],
   "source": [
    "import numpy as np\n",
    "import matplotlib.pyplot as plt"
   ]
  },
  {
   "cell_type": "markdown",
   "metadata": {},
   "source": [
    "# 最值归一化 Normalization"
   ]
  },
  {
   "cell_type": "code",
   "execution_count": 2,
   "metadata": {},
   "outputs": [],
   "source": [
    "x = np.random.randint(0, 100, 100)"
   ]
  },
  {
   "cell_type": "code",
   "execution_count": 4,
   "metadata": {},
   "outputs": [
    {
     "data": {
      "text/plain": [
       "array([0.45360825, 0.1443299 , 0.        , 0.53608247, 0.2371134 ,\n",
       "       1.        , 0.88659794, 0.59793814, 0.17525773, 0.62886598,\n",
       "       0.39175258, 0.02061856, 0.20618557, 0.18556701, 0.30927835,\n",
       "       0.51546392, 0.87628866, 0.6185567 , 0.06185567, 0.56701031,\n",
       "       0.60824742, 0.15463918, 1.        , 0.11340206, 0.62886598,\n",
       "       0.65979381, 0.31958763, 0.96907216, 0.48453608, 0.59793814,\n",
       "       0.10309278, 0.90721649, 0.57731959, 0.90721649, 0.93814433,\n",
       "       0.24742268, 0.13402062, 0.54639175, 0.37113402, 0.84536082,\n",
       "       0.41237113, 0.19587629, 0.92783505, 0.16494845, 0.06185567,\n",
       "       0.62886598, 0.49484536, 0.30927835, 0.96907216, 0.28865979,\n",
       "       0.83505155, 0.37113402, 0.51546392, 0.92783505, 0.48453608,\n",
       "       0.89690722, 0.82474227, 0.71134021, 0.51546392, 0.04123711,\n",
       "       0.05154639, 0.75257732, 0.35051546, 0.7628866 , 0.53608247,\n",
       "       0.20618557, 0.50515464, 0.88659794, 0.70103093, 0.34020619,\n",
       "       0.69072165, 0.60824742, 0.68041237, 0.95876289, 0.28865979,\n",
       "       0.88659794, 0.27835052, 0.5257732 , 0.5257732 , 0.09278351,\n",
       "       0.31958763, 0.3814433 , 0.84536082, 0.02061856, 0.27835052,\n",
       "       0.65979381, 0.89690722, 0.37113402, 0.81443299, 0.46391753,\n",
       "       0.65979381, 0.77319588, 0.59793814, 0.64948454, 0.25773196,\n",
       "       0.21649485, 0.98969072, 0.97938144, 0.10309278, 0.39175258])"
      ]
     },
     "execution_count": 4,
     "metadata": {},
     "output_type": "execute_result"
    }
   ],
   "source": [
    "(x - np.min(x))/(np.max(x)-np.min(x))"
   ]
  },
  {
   "cell_type": "code",
   "execution_count": 7,
   "metadata": {},
   "outputs": [],
   "source": [
    "X = np.random.randint(0, 100, (50, 2))"
   ]
  },
  {
   "cell_type": "code",
   "execution_count": 9,
   "metadata": {},
   "outputs": [
    {
     "data": {
      "text/plain": [
       "array([[10,  7],\n",
       "       [ 1, 82],\n",
       "       [97, 55],\n",
       "       [42, 20],\n",
       "       [72, 82],\n",
       "       [68, 70],\n",
       "       [92, 20],\n",
       "       [53, 16],\n",
       "       [16, 78],\n",
       "       [ 7, 83]])"
      ]
     },
     "execution_count": 9,
     "metadata": {},
     "output_type": "execute_result"
    }
   ],
   "source": [
    "X[:10,:]"
   ]
  },
  {
   "cell_type": "markdown",
   "metadata": {},
   "source": [
    "### 在numpy的矩阵中只能存储一种类型的元素\n",
    "### 我们逐列处理的时候会产生浮点数\n",
    "### 所以提前转成浮点数"
   ]
  },
  {
   "cell_type": "code",
   "execution_count": 11,
   "metadata": {},
   "outputs": [],
   "source": [
    "X = np.array(X, dtype=float)"
   ]
  },
  {
   "cell_type": "code",
   "execution_count": 12,
   "metadata": {},
   "outputs": [
    {
     "data": {
      "text/plain": [
       "array([[10.,  7.],\n",
       "       [ 1., 82.],\n",
       "       [97., 55.],\n",
       "       [42., 20.],\n",
       "       [72., 82.],\n",
       "       [68., 70.],\n",
       "       [92., 20.],\n",
       "       [53., 16.],\n",
       "       [16., 78.],\n",
       "       [ 7., 83.]])"
      ]
     },
     "execution_count": 12,
     "metadata": {},
     "output_type": "execute_result"
    }
   ],
   "source": [
    "X[:10,:]"
   ]
  },
  {
   "cell_type": "code",
   "execution_count": 20,
   "metadata": {},
   "outputs": [
    {
     "data": {
      "text/plain": [
       "array([[0.09278351, 0.05376344],\n",
       "       [0.        , 0.86021505],\n",
       "       [0.98969072, 0.56989247],\n",
       "       [0.42268041, 0.19354839],\n",
       "       [0.73195876, 0.86021505],\n",
       "       [0.69072165, 0.7311828 ],\n",
       "       [0.93814433, 0.19354839],\n",
       "       [0.53608247, 0.15053763],\n",
       "       [0.15463918, 0.8172043 ],\n",
       "       [0.06185567, 0.87096774]])"
      ]
     },
     "execution_count": 20,
     "metadata": {},
     "output_type": "execute_result"
    }
   ],
   "source": [
    "for i in np.arange(0, X[0,:].shape[0]):\n",
    "    X[:,i] = (X[:,i] - np.min(X[:,i]))/(np.max(X[:,i])-np.min(X[:,i]))\n",
    "X[:10,:]"
   ]
  },
  {
   "cell_type": "code",
   "execution_count": 22,
   "metadata": {},
   "outputs": [
    {
     "data": {
      "image/png": "[encoded data removed]",
      "text/plain": [
       "<matplotlib.figure.Figure at 0x1d80d3b2828>"
      ]
     },
     "metadata": {},
     "output_type": "display_data"
    }
   ],
   "source": [
    "plt.scatter(X[:,0], X[:,1])\n",
    "plt.show()"
   ]
  },
  {
   "cell_type": "code",
   "execution_count": 24,
   "metadata": {},
   "outputs": [
    {
     "data": {
      "text/plain": [
       "0.49113402061855665"
      ]
     },
     "execution_count": 24,
     "metadata": {},
     "output_type": "execute_result"
    }
   ],
   "source": [
    "np.mean(X[:,0])"
   ]
  },
  {
   "cell_type": "code",
   "execution_count": 25,
   "metadata": {},
   "outputs": [
    {
     "data": {
      "text/plain": [
       "0.292890643966291"
      ]
     },
     "execution_count": 25,
     "metadata": {},
     "output_type": "execute_result"
    }
   ],
   "source": [
    "np.std(X[:, 0])"
   ]
  },
  {
   "cell_type": "code",
   "execution_count": 26,
   "metadata": {},
   "outputs": [
    {
     "data": {
      "text/plain": [
       "0.08578492932298863"
      ]
     },
     "execution_count": 26,
     "metadata": {},
     "output_type": "execute_result"
    }
   ],
   "source": [
    "np.var(X[:, 0])"
   ]
  },
  {
   "cell_type": "markdown",
   "metadata": {},
   "source": [
    "# 均值范方差归一化  Standardization"
   ]
  },
  {
   "cell_type": "code",
   "execution_count": 27,
   "metadata": {},
   "outputs": [],
   "source": [
    "X2 = np.random.randint(0, 100, (50,2))"
   ]
  },
  {
   "cell_type": "code",
   "execution_count": 29,
   "metadata": {},
   "outputs": [],
   "source": [
    "X2 = np.array(X2, dtype=float)"
   ]
  },
  {
   "cell_type": "code",
   "execution_count": 32,
   "metadata": {},
   "outputs": [
    {
     "data": {
      "text/plain": [
       "array([[0.09278351, 0.05376344],\n",
       "       [0.        , 0.86021505],\n",
       "       [0.98969072, 0.56989247],\n",
       "       [0.42268041, 0.19354839],\n",
       "       [0.73195876, 0.86021505],\n",
       "       [0.69072165, 0.7311828 ],\n",
       "       [0.93814433, 0.19354839],\n",
       "       [0.53608247, 0.15053763],\n",
       "       [0.15463918, 0.8172043 ],\n",
       "       [0.06185567, 0.87096774]])"
      ]
     },
     "execution_count": 32,
     "metadata": {},
     "output_type": "execute_result"
    }
   ],
   "source": [
    "for i in range(0, X2[0,:].shape[0]):\n",
    "    X2[:,i] = (X2[:,i] - np.mean(X2[:,i]))/np.std(X2[:,i])\n",
    "X[:10,:]"
   ]
  },
  {
   "cell_type": "code",
   "execution_count": 34,
   "metadata": {},
   "outputs": [
    {
     "data": {
      "image/png": "[encoded data removed]",
      "text/plain": [
       "<matplotlib.figure.Figure at 0x1d80d51bda0>"
      ]
     },
     "metadata": {},
     "output_type": "display_data"
    }
   ],
   "source": [
    "plt.scatter(X2[:,0], X2[:,1])\n",
    "plt.show()"
   ]
  },
  {
   "cell_type": "code",
   "execution_count": 35,
   "metadata": {},
   "outputs": [
    {
     "data": {
      "text/plain": [
       "7.105427357601002e-17"
      ]
     },
     "execution_count": 35,
     "metadata": {},
     "output_type": "execute_result"
    }
   ],
   "source": [
    "np.mean(X2[:,0])"
   ]
  },
  {
   "cell_type": "code",
   "execution_count": 36,
   "metadata": {},
   "outputs": [
    {
     "data": {
      "text/plain": [
       "1.0"
      ]
     },
     "execution_count": 36,
     "metadata": {},
     "output_type": "execute_result"
    }
   ],
   "source": [
    "np.std(X2[:,0])"
   ]
  },
  {
   "cell_type": "code",
   "execution_count": 37,
   "metadata": {},
   "outputs": [
    {
     "data": {
      "text/plain": [
       "-1.1102230246251565e-16"
      ]
     },
     "execution_count": 37,
     "metadata": {},
     "output_type": "execute_result"
    }
   ],
   "source": [
    "np.mean(X2[:,1])"
   ]
  },
  {
   "cell_type": "code",
   "execution_count": 39,
   "metadata": {},
   "outputs": [
    {
     "data": {
      "text/plain": [
       "1.0"
      ]
     },
     "execution_count": 39,
     "metadata": {},
     "output_type": "execute_result"
    }
   ],
   "source": [
    "np.std(X2[:,1])"
   ]
  },
  {
   "cell_type": "code",
   "execution_count": null,
   "metadata": {},
   "outputs": [],
   "source": []
  }
 ],
 "metadata": {
  "kernelspec": {
   "display_name": "Python 3",
   "language": "python",
   "name": "python3"
  },
  "language_info": {
   "codemirror_mode": {
    "name": "ipython",
    "version": 3
   },
   "file_extension": ".py",
   "mimetype": "text/x-python",
   "name": "python",
   "nbconvert_exporter": "python",
   "pygments_lexer": "ipython3",
   "version": "3.6.4"
  }
 },
 "nbformat": 4,
 "nbformat_minor": 2
}
